{
 "cells": [
  {
   "cell_type": "markdown",
   "id": "1d5a0637",
   "metadata": {},
   "source": [
    "# 🏥 Health Risk Prediction: Smoking & Drinking Analysis\n",
    "\n",
    "Data science project to predict smoking/drinking behaviors and cardiovascular risk using medical health check-up data. Apply ML techniques for preventive healthcare interventions."
   ]
  },
  {
   "cell_type": "markdown",
   "id": "f10b35cb",
   "metadata": {},
   "source": [
    "## 1. Data loading and visualization"
   ]
  },
  {
   "cell_type": "code",
   "execution_count": null,
   "id": "def6ec61",
   "metadata": {},
   "outputs": [],
   "source": [
    "import numpy as np\n",
    "import pandas as pd\n",
    "import seaborn as sns\n",
    "import matplotlib.pyplot as plt"
   ]
  },
  {
   "cell_type": "code",
   "execution_count": null,
   "id": "32a2568e",
   "metadata": {},
   "outputs": [],
   "source": [
    "# loading and visualizing the dataset\n",
    "df = pd.read_csv('../data/smoking-drinking_dataset.csv')\n",
    "df.head()"
   ]
  },
  {
   "cell_type": "code",
   "execution_count": null,
   "id": "6c407dc8",
   "metadata": {},
   "outputs": [],
   "source": [
    "df.info()\n",
    "\n",
    "df.shape"
   ]
  },
  {
   "cell_type": "code",
   "execution_count": null,
   "id": "640ba895",
   "metadata": {},
   "outputs": [],
   "source": [
    "# checking and handling missing values\n",
    "columns_with_missing_values = df.columns[df.isnull().any()]\n",
    "\n",
    "print(\"Missing value percentage:\")\n",
    "if columns_with_missing_values.empty:\n",
    "    print(\"No missing values found.\")\n",
    "else:\n",
    "    for column in columns_with_missing_values:\n",
    "        print(column,\":\",df[column].isnull().sum()/df.shape[0]*100)"
   ]
  },
  {
   "cell_type": "code",
   "execution_count": null,
   "id": "5d601875",
   "metadata": {},
   "outputs": [],
   "source": [
    "# Note that the dataset has several categorical features represented as numerical codes.\n",
    "\n",
    "# Defining manually the categorical columns\n",
    "categorical_columns = ['sex', 'DRK_YN', 'SMK_stat_type_cd', \n",
    "                       'hear_left', 'hear_right', 'urine_protein']\n",
    "\n",
    "print(\"=\" * 50)\n",
    "print(\"CATEGORICAL FEATURES DISTRIBUTION\")\n",
    "print(\"=\" * 50)\n",
    "\n",
    "for column in categorical_columns:\n",
    "    print(f\"\\n{column.upper()}\")\n",
    "    print(\"-\" * 30)\n",
    "    counts = df[column].value_counts()\n",
    "    print(counts)\n",
    "    \n",
    "    # Calcola percentuali\n",
    "    percentages = df[column].value_counts(normalize=True) * 100\n",
    "    print(\"\\nPercentages:\")\n",
    "    print(percentages.round(2))\n",
    "    print(\"=\" * 50)"
   ]
  },
  {
   "cell_type": "markdown",
   "id": "4e690b50",
   "metadata": {},
   "source": [
    "## 2. EDA"
   ]
  },
  {
   "cell_type": "code",
   "execution_count": null,
   "id": "3ca803a0",
   "metadata": {},
   "outputs": [],
   "source": [
    "fig, axes = plt.subplots(1, 2, figsize=(14, 6))\n",
    "\n",
    "# 1. Smoking Status\n",
    "smoking_counts = df['SMK_stat_type_cd'].value_counts()\n",
    "total_smoking = smoking_counts.sum()\n",
    "\n",
    "def make_autopct(values):\n",
    "    def my_autopct(pct):\n",
    "        total = sum(values)\n",
    "        val = int(round(pct*total/100.0))\n",
    "        return f'{pct:.1f}%\\n({val:,})'\n",
    "    return my_autopct\n",
    "\n",
    "axes[0].pie(\n",
    "    smoking_counts,\n",
    "    labels=['Never Smoker', 'Ex-Smoker', 'Current Smoker'],\n",
    "    autopct=make_autopct(smoking_counts),\n",
    "    colors=['#90EE90', '#FFA500', '#FF6B6B'],\n",
    "    startangle=90\n",
    ")\n",
    "axes[0].set_title(f'Smoking Status Distribution\\nTotal: {total_smoking:,}', \n",
    "                  fontsize=14, fontweight='bold')\n",
    "\n",
    "# 2. Drinking Status\n",
    "drinking_counts = df['DRK_YN'].value_counts()\n",
    "total_drinking = drinking_counts.sum()\n",
    "\n",
    "axes[1].pie(\n",
    "    drinking_counts,\n",
    "    labels=['Non-Drinker', 'Drinker'],\n",
    "    autopct=make_autopct(drinking_counts),\n",
    "    colors=['#87CEEB', '#FA8072'],\n",
    "    startangle=90\n",
    ")\n",
    "axes[1].set_title(f'Drinking Status Distribution\\nTotal: {total_drinking:,}', \n",
    "                  fontsize=14, fontweight='bold')\n",
    "\n",
    "plt.tight_layout()\n",
    "plt.show()"
   ]
  },
  {
   "cell_type": "markdown",
   "id": "ac44a089",
   "metadata": {},
   "source": [
    "### Smoking-related features"
   ]
  },
  {
   "cell_type": "code",
   "execution_count": null,
   "id": "f0caf235",
   "metadata": {},
   "outputs": [],
   "source": [
    "# Age vs Smoking Status (3 categories)\n",
    "plt.figure(figsize=(12, 6))\n",
    "\n",
    "df[df['SMK_stat_type_cd']==1]['age'].plot.hist(\n",
    "    bins=30, alpha=0.5, color='green', label='Never Smoker'\n",
    ")\n",
    "df[df['SMK_stat_type_cd']==2]['age'].plot.hist(\n",
    "    bins=30, alpha=0.5, color='orange', label='Ex-Smoker'\n",
    ")\n",
    "df[df['SMK_stat_type_cd']==3]['age'].plot.hist(\n",
    "    bins=30, alpha=0.5, color='red', label='Current Smoker'\n",
    ")\n",
    "\n",
    "plt.legend(fontsize=12)\n",
    "plt.xlabel('Age (years)', fontsize=12)\n",
    "plt.ylabel('Frequency', fontsize=12)\n",
    "plt.title('Smoking Status by Age', fontsize=14, fontweight='bold')\n",
    "plt.grid(alpha=0.3)\n",
    "plt.show()\n"
   ]
  },
  {
   "cell_type": "code",
   "execution_count": null,
   "id": "455e6071",
   "metadata": {},
   "outputs": [],
   "source": [
    "# Systolic Blood Pressure vs Smoking - BAR CHART\n",
    "plt.figure(figsize=(8, 6))\n",
    "\n",
    "sbp_means = df[df['SMK_stat_type_cd'].isin([1, 3])].groupby('SMK_stat_type_cd')['SBP'].mean()\n",
    "colors = ['#90EE90', '#FF6B6B']\n",
    "bars = plt.bar(['Never Smoker', 'Current Smoker'], sbp_means, \n",
    "               color=colors, edgecolor='black', linewidth=1.5, width=0.6)\n",
    "\n",
    "# Aggiungi valori sopra le barre\n",
    "for bar in bars:\n",
    "    height = bar.get_height()\n",
    "    plt.text(bar.get_x() + bar.get_width()/2., height,\n",
    "             f'{height:.1f} mmHg',\n",
    "             ha='center', va='bottom', fontsize=12, fontweight='bold')\n",
    "\n",
    "plt.axhline(y=120, color='red', linestyle='--', linewidth=2, label='Normal threshold (120 mmHg)')\n",
    "plt.ylabel('Average Systolic BP (mmHg)', fontsize=12, fontweight='bold')\n",
    "plt.title('Systolic Blood Pressure: Smokers vs Non-Smokers', fontsize=14, fontweight='bold')\n",
    "plt.legend(fontsize=11)\n",
    "plt.ylim(100, max(sbp_means) * 1.1)\n",
    "plt.grid(axis='y', alpha=0.3)\n",
    "plt.show()"
   ]
  },
  {
   "cell_type": "markdown",
   "id": "8caf3196",
   "metadata": {},
   "source": [
    "**Analysis**: Current smokers show elevated systolic blood pressure (123.6 mmHg) compared to never smokers (121.2 mmHg), with a difference of 2.4 mmHg. Both groups cluster near the normal threshold (120 mmHg), but smokers demonstrate a clear rightward shift indicating increased cardiovascular risk. This feature will serve as a moderate predictor for smoking status classification.\n",
    "\n",
    "**Feature Importance**: ⭐⭐ Moderate predictor - The difference is statistically significant and aligns with medical literature confirming smoking's impact on blood pressure regulation."
   ]
  },
  {
   "cell_type": "code",
   "execution_count": null,
   "id": "f9657b54",
   "metadata": {},
   "outputs": [],
   "source": [
    "# HDL Cholesterol vs Smoking - BAR CHART\n",
    "plt.figure(figsize=(8, 6))\n",
    "\n",
    "hdl_means = df[df['SMK_stat_type_cd'].isin([1, 3])].groupby('SMK_stat_type_cd')['HDL_chole'].mean()\n",
    "colors = ['#90EE90', '#FF6B6B']\n",
    "bars = plt.bar(['Never Smoker', 'Current Smoker'], hdl_means, \n",
    "               color=colors, edgecolor='black', linewidth=1.5, width=0.6)\n",
    "\n",
    "# Aggiungi valori sopra le barre\n",
    "for bar in bars:\n",
    "    height = bar.get_height()\n",
    "    plt.text(bar.get_x() + bar.get_width()/2., height,\n",
    "             f'{height:.1f} mg/dL',\n",
    "             ha='center', va='bottom', fontsize=12, fontweight='bold')\n",
    "\n",
    "plt.axhline(y=40, color='blue', linestyle='--', linewidth=2, label='Low HDL threshold (40 mg/dL)')\n",
    "plt.ylabel('Average HDL Cholesterol (mg/dL)', fontsize=12, fontweight='bold')\n",
    "plt.title('HDL Cholesterol: Smokers vs Non-Smokers', fontsize=14, fontweight='bold')\n",
    "plt.legend(fontsize=11)\n",
    "plt.ylim(30, max(hdl_means) * 1.15)\n",
    "plt.grid(axis='y', alpha=0.3)\n",
    "plt.show()"
   ]
  },
  {
   "cell_type": "markdown",
   "id": "ab2efdd3",
   "metadata": {},
   "source": [
    "**Analysis**: Current smokers exhibit significantly lower HDL levels (52.9 mg/dL) compared to never smokers (59.3 mg/dL), representing a 10.8% reduction in good cholesterol. This 6.4 mg/dL difference is clinically meaningful and aligns with established cardiovascular research showing smoking's negative impact on HDL metabolism.\n",
    "\n",
    "**Feature Importance**: ⭐⭐⭐ Strong predictor - The clear separation makes HDL a valuable feature for smoking status classification, particularly when combined with blood pressure and other cardiovascular markers."
   ]
  },
  {
   "cell_type": "code",
   "execution_count": null,
   "id": "a0d92318",
   "metadata": {},
   "outputs": [],
   "source": [
    "# LDL Cholesterol vs Smoking - BAR CHART\n",
    "plt.figure(figsize=(8, 6))\n",
    "\n",
    "ldl_means = df[df['SMK_stat_type_cd'].isin([1, 3])].groupby('SMK_stat_type_cd')['LDL_chole'].mean()\n",
    "colors = ['#90EE90', '#FF6B6B']\n",
    "bars = plt.bar(['Never Smoker', 'Current Smoker'], ldl_means, \n",
    "               color=colors, edgecolor='black', linewidth=1.5, width=0.6)\n",
    "\n",
    "# Aggiungi valori sopra le barre\n",
    "for bar in bars:\n",
    "    height = bar.get_height()\n",
    "    plt.text(bar.get_x() + bar.get_width()/2., height,\n",
    "             f'{height:.1f} mg/dL',\n",
    "             ha='center', va='bottom', fontsize=12, fontweight='bold')\n",
    "\n",
    "plt.axhline(y=100, color='red', linestyle='--', linewidth=2, label='Optimal limit (100 mg/dL)')\n",
    "plt.axhline(y=130, color='orange', linestyle='--', linewidth=2, label='Borderline high (130 mg/dL)')\n",
    "plt.ylabel('Average LDL Cholesterol (mg/dL)', fontsize=12, fontweight='bold')\n",
    "plt.title('LDL Cholesterol: Smokers vs Non-Smokers', fontsize=14, fontweight='bold')\n",
    "plt.legend(fontsize=11)\n",
    "plt.ylim(80, max(ldl_means) * 1.1)\n",
    "plt.grid(axis='y', alpha=0.3)\n",
    "plt.show()\n"
   ]
  },
  {
   "cell_type": "markdown",
   "id": "30609808",
   "metadata": {},
   "source": [
    "**Analysis**: LDL cholesterol shows minimal difference between never smokers (113.4 mg/dL) and current smokers (112.3 mg/dL), with only a 1.0 mg/dL variation. Both groups exceed the optimal limit (100 mg/dL) but remain below borderline high (130 mg/dL). The high overlap suggests LDL is influenced by multiple confounding factors beyond smoking status.\n",
    "\n",
    "**Feature Importance**: ⭐ Weak predictor - Limited predictive power due to substantial inter-group similarity. LDL will contribute minimally to smoking classification models."
   ]
  },
  {
   "cell_type": "code",
   "execution_count": null,
   "id": "21763c2e",
   "metadata": {},
   "outputs": [],
   "source": [
    "# Waistline vs Smoking - BAR CHART\n",
    "plt.figure(figsize=(8, 6))\n",
    "\n",
    "waist_means = df[df['SMK_stat_type_cd'].isin([1, 3])].groupby('SMK_stat_type_cd')['waistline'].mean()\n",
    "colors = ['#90EE90', '#FF6B6B']\n",
    "bars = plt.bar(['Never Smoker', 'Current Smoker'], waist_means, \n",
    "               color=colors, edgecolor='black', linewidth=1.5, width=0.6)\n",
    "\n",
    "# Aggiungi valori sopra le barre\n",
    "for bar in bars:\n",
    "    height = bar.get_height()\n",
    "    plt.text(bar.get_x() + bar.get_width()/2., height,\n",
    "             f'{height:.1f} cm',\n",
    "             ha='center', va='bottom', fontsize=12, fontweight='bold')\n",
    "\n",
    "plt.axhline(y=90, color='orange', linestyle='--', linewidth=2, label='Obesity threshold (90 cm)')\n",
    "plt.ylabel('Average Waistline (cm)', fontsize=12, fontweight='bold')\n",
    "plt.title('Waistline: Smokers vs Non-Smokers', fontsize=14, fontweight='bold')\n",
    "plt.legend(fontsize=11)\n",
    "plt.ylim(70, max(waist_means) * 1.1)\n",
    "plt.grid(axis='y', alpha=0.3)\n",
    "plt.show()"
   ]
  },
  {
   "cell_type": "markdown",
   "id": "28d64915",
   "metadata": {},
   "source": [
    "**Analysis**: Current smokers display larger waistlines (84.2 cm) compared to never smokers (79.0 cm), showing a 5.2 cm difference. Both groups remain below the obesity threshold (90 cm), but smokers demonstrate a shift toward higher values. This unexpected pattern (contrary to nicotine's appetite-suppressing effects) may reflect other lifestyle factors.\n",
    "\n",
    "**Feature Importance**: ⭐ Limited predictor - While statistically significant, waistline shows high variability and will have limited standalone predictive power for smoking status classification."
   ]
  },
  {
   "cell_type": "markdown",
   "id": "f85f6bad",
   "metadata": {},
   "source": [
    "### Drinking-related features"
   ]
  },
  {
   "cell_type": "code",
   "execution_count": null,
   "id": "0822423b",
   "metadata": {},
   "outputs": [],
   "source": [
    "# Gamma-GTP vs Drinking - BAR CHART\n",
    "plt.figure(figsize=(8, 6))\n",
    "\n",
    "gtp_means = df.groupby('DRK_YN')['gamma_GTP'].mean()\n",
    "colors = ['#87CEEB', '#FA8072']\n",
    "bars = plt.bar(['Non-Drinker', 'Drinker'], gtp_means, \n",
    "               color=colors, edgecolor='black', linewidth=1.5, width=0.6)\n",
    "\n",
    "# Aggiungi valori sopra le barre\n",
    "for bar in bars:\n",
    "    height = bar.get_height()\n",
    "    plt.text(bar.get_x() + bar.get_width()/2., height,\n",
    "             f'{height:.1f} U/L',\n",
    "             ha='center', va='bottom', fontsize=12, fontweight='bold')\n",
    "\n",
    "plt.axhline(y=55, color='red', linestyle='--', linewidth=2, label='Upper normal limit (55 U/L)')\n",
    "plt.ylabel('Average Gamma-GTP (U/L)', fontsize=12, fontweight='bold')\n",
    "plt.title('Gamma-GTP: Drinkers vs Non-Drinkers', fontsize=14, fontweight='bold')\n",
    "plt.legend(fontsize=11)\n",
    "plt.ylim(0, max(gtp_means) * 1.2)\n",
    "plt.grid(axis='y', alpha=0.3)\n",
    "plt.show()"
   ]
  },
  {
   "cell_type": "markdown",
   "id": "0059a213",
   "metadata": {},
   "source": [
    "**Analysis**: Gamma-GTP demonstrates exceptional discriminative power with drinkers showing 77% higher levels (47.5 U/L) compared to non-drinkers (26.8 U/L). Drinkers approach the upper normal limit (55 U/L) while non-drinkers remain well below it. This confirms gamma-GTP as the most specific biomarker for alcohol consumption.\n",
    "\n",
    "**Feature Importance**: ⭐⭐⭐⭐⭐ PRIMARY predictor - This feature will be the strongest predictor for drinking status, potentially achieving high accuracy independently due to clear separation between groups."
   ]
  },
  {
   "cell_type": "code",
   "execution_count": null,
   "id": "51405552",
   "metadata": {},
   "outputs": [],
   "source": [
    "# Triglycerides vs Drinking - BAR CHART\n",
    "plt.figure(figsize=(8, 6))\n",
    "\n",
    "trig_means = df.groupby('DRK_YN')['triglyceride'].mean()\n",
    "colors = ['#87CEEB', '#FA8072']\n",
    "bars = plt.bar(['Non-Drinker', 'Drinker'], trig_means, \n",
    "               color=colors, edgecolor='black', linewidth=1.5, width=0.6)\n",
    "\n",
    "# Aggiungi valori sopra le barre\n",
    "for bar in bars:\n",
    "    height = bar.get_height()\n",
    "    plt.text(bar.get_x() + bar.get_width()/2., height,\n",
    "             f'{height:.1f} mg/dL',\n",
    "             ha='center', va='bottom', fontsize=12, fontweight='bold')\n",
    "\n",
    "plt.axhline(y=150, color='red', linestyle='--', linewidth=2, label='Upper normal limit (150 mg/dL)')\n",
    "plt.ylabel('Average Triglycerides (mg/dL)', fontsize=12, fontweight='bold')\n",
    "plt.title('Triglycerides: Drinkers vs Non-Drinkers', fontsize=14, fontweight='bold')\n",
    "plt.legend(fontsize=11)\n",
    "plt.ylim(0, max(trig_means) * 1.2)\n",
    "plt.grid(axis='y', alpha=0.3)\n",
    "plt.show()"
   ]
  },
  {
   "cell_type": "markdown",
   "id": "92e0c7f0",
   "metadata": {},
   "source": [
    "**Analysis**: Drinkers show elevated triglyceride levels (142.8 mg/dL) compared to non-drinkers (121.5 mg/dL), representing a 17.5% increase. Drinkers approach the upper normal limit (150 mg/dL) while non-drinkers remain comfortably below it. This metabolic marker reflects alcohol's significant impact on lipid metabolism.\n",
    "\n",
    "**Feature Importance**: ⭐⭐⭐ Strong predictor - Triglycerides will serve as a valuable secondary feature for drinking status classification, particularly when combined with liver enzyme markers (gamma-GTP, AST, ALT)."
   ]
  },
  {
   "cell_type": "code",
   "execution_count": null,
   "id": "5b041472",
   "metadata": {},
   "outputs": [],
   "source": [
    "# AST vs Drinking - BAR CHART\n",
    "plt.figure(figsize=(8, 6))\n",
    "\n",
    "ast_means = df.groupby('DRK_YN')['SGOT_AST'].mean()\n",
    "colors = ['#87CEEB', '#FA8072']\n",
    "bars = plt.bar(['Non-Drinker', 'Drinker'], ast_means, \n",
    "               color=colors, edgecolor='black', linewidth=1.5, width=0.6)\n",
    "\n",
    "# Aggiungi valori sopra le barre\n",
    "for bar in bars:\n",
    "    height = bar.get_height()\n",
    "    plt.text(bar.get_x() + bar.get_width()/2., height,\n",
    "             f'{height:.1f} U/L',\n",
    "             ha='center', va='bottom', fontsize=12, fontweight='bold')\n",
    "\n",
    "plt.axhline(y=40, color='red', linestyle='--', linewidth=2, label='Upper normal limit (40 U/L)')\n",
    "plt.ylabel('Average AST (U/L)', fontsize=12, fontweight='bold')\n",
    "plt.title('AST Enzyme: Drinkers vs Non-Drinkers', fontsize=14, fontweight='bold')\n",
    "plt.legend(fontsize=11)\n",
    "plt.ylim(0, 50)\n",
    "plt.grid(axis='y', alpha=0.3)\n",
    "plt.show()"
   ]
  },
  {
   "cell_type": "markdown",
   "id": "ca0c8cf4",
   "metadata": {},
   "source": [
    "**Analysis**: Drinkers display slightly elevated AST levels (26.9 U/L) versus non-drinkers (25.1 U/L), representing a 7.2% increase. Both groups stay within normal ranges (<40 U/L), suggesting AST is less sensitive than gamma-GTP for detecting moderate alcohol consumption. AST will serve as a supporting biomarker in the classification model.\n",
    "\n",
    "**Feature Importance**: ⭐⭐ Supporting predictor - Useful in combination with other liver enzymes but limited standalone discriminative power due to high inter-group overlap."
   ]
  },
  {
   "cell_type": "code",
   "execution_count": null,
   "id": "19ef5a4d",
   "metadata": {},
   "outputs": [],
   "source": [
    "# ALT vs Drinking - BAR CHART\n",
    "plt.figure(figsize=(8, 6))\n",
    "\n",
    "alt_means = df.groupby('DRK_YN')['SGOT_ALT'].mean()\n",
    "colors = ['#87CEEB', '#FA8072']\n",
    "bars = plt.bar(['Non-Drinker', 'Drinker'], alt_means, \n",
    "               color=colors, edgecolor='black', linewidth=1.5, width=0.6)\n",
    "\n",
    "# Aggiungi valori sopra le barre\n",
    "for bar in bars:\n",
    "    height = bar.get_height()\n",
    "    plt.text(bar.get_x() + bar.get_width()/2., height,\n",
    "             f'{height:.1f} U/L',\n",
    "             ha='center', va='bottom', fontsize=12, fontweight='bold')\n",
    "\n",
    "plt.axhline(y=56, color='red', linestyle='--', linewidth=2, label='Upper normal limit (56 U/L)')\n",
    "plt.ylabel('Average ALT (U/L)', fontsize=12, fontweight='bold')\n",
    "plt.title('ALT Enzyme: Drinkers vs Non-Drinkers', fontsize=14, fontweight='bold')\n",
    "plt.legend(fontsize=11)\n",
    "plt.ylim(0, 50)\n",
    "plt.grid(axis='y', alpha=0.3)\n",
    "plt.show()"
   ]
  },
  {
   "cell_type": "markdown",
   "id": "a84713b8",
   "metadata": {},
   "source": [
    "**Analysis**: Drinkers exhibit elevated ALT levels (27.4 U/L) compared to non-drinkers (24.1 U/L), showing a 13.7% increase. Both groups remain well below the upper normal limit (56 U/L), indicating that ALT elevation is primarily observed in heavy or chronic drinkers. This liver enzyme marker will contribute as a secondary predictor in the drinking status model.\n",
    "\n",
    "**Feature Importance**: ⭐⭐ Secondary predictor - Moderate discriminative power when combined with gamma-GTP and AST for comprehensive liver function assessment."
   ]
  },
  {
   "cell_type": "markdown",
   "id": "82b18213",
   "metadata": {},
   "source": [
    "### Feature Importance Summary\n",
    "\n",
    "| Target | Feature | Mean Difference | Importance | Role in Model |\n",
    "|--------|---------|----------------|------------|---------------|\n",
    "| **Smoking** | SBP | +2.4 mmHg | ⭐⭐ | Moderate predictor |\n",
    "| **Smoking** | HDL | -6.4 mg/dL | ⭐⭐⭐ | Strong predictor |\n",
    "| **Smoking** | LDL | -1.0 mg/dL | ⭐ | Weak predictor |\n",
    "| **Smoking** | Waistline | +5.2 cm | ⭐ | Limited predictor |\n",
    "| **Drinking** | Gamma-GTP | +20.7 U/L (+77%) | ⭐⭐⭐⭐⭐ | **PRIMARY** predictor |\n",
    "| **Drinking** | Triglycerides | +21.3 mg/dL (+17.5%) | ⭐⭐⭐ | Strong predictor |\n",
    "| **Drinking** | AST | +1.8 U/L (+7.2%) | ⭐⭐ | Supporting predictor |\n",
    "| **Drinking** | ALT | +3.3 U/L (+13.7%) | ⭐⭐ | Secondary predictor |\n",
    "\n",
    "**Key Insights**:\n",
    "- Gamma-GTP stands out as the most discriminative feature with a 77% difference between groups\n",
    "- HDL shows the strongest separation for smoking status with a 10.8% reduction in smokers\n",
    "- LDL has minimal predictive value due to high inter-group overlap\n",
    "- Liver enzymes (gamma-GTP, ALT, AST) combined will provide robust drinking status prediction\n",
    "- Cardiovascular markers (SBP, HDL) will be most effective for smoking status classification"
   ]
  },
  {
   "cell_type": "markdown",
   "id": "3245537b",
   "metadata": {},
   "source": [
    "## 3. Data preparation for modeling"
   ]
  },
  {
   "cell_type": "markdown",
   "id": "a5a78e11",
   "metadata": {},
   "source": [
    "### Label encoding"
   ]
  },
  {
   "cell_type": "code",
   "execution_count": null,
   "id": "b8632f2a",
   "metadata": {},
   "outputs": [],
   "source": [
    "from sklearn.preprocessing import LabelEncoder\n",
    "\n",
    "le = LabelEncoder()\n",
    "\n",
    "# Encode sex (Male/Female → 0/1)\n",
    "df['sex'] = le.fit_transform(df['sex'])\n",
    "print(\"Sex encoded:\", df['sex'].unique())\n",
    "\n",
    "# Encode drinking status (Y/N → 1/0) - TARGET VARIABLE\n",
    "df['DRK_YN'] = le.fit_transform(df['DRK_YN'])\n",
    "print(\"Drinking encoded:\", df['DRK_YN'].unique())\n",
    "\n",
    "# Note: SMK_stat_type_cd, hear_left/right, urine_protein are already numeric"
   ]
  },
  {
   "cell_type": "markdown",
   "id": "f8dae2c0",
   "metadata": {},
   "source": [
    "### Feature engineering"
   ]
  },
  {
   "cell_type": "code",
   "execution_count": null,
   "id": "8de2e4d8",
   "metadata": {},
   "outputs": [],
   "source": [
    "# Salva shape originale\n",
    "original_features = df.shape[1]\n",
    "print(f\"\\nOriginal features: {original_features}\")\n",
    "\n",
    "# 1. CARDIOVASCULAR RATIOS\n",
    "df['HDL_LDL_ratio'] = df['HDL_chole'] / (df['LDL_chole'] + 1e-5)  # Protezione divisione per zero\n",
    "df['BP_ratio'] = df['SBP'] / (df['DBP'] + 1e-5)\n",
    "df['cholesterol_total'] = df['HDL_chole'] + df['LDL_chole'] + df['triglyceride']\n",
    "\n",
    "# 2. LIVER HEALTH INDICATORS\n",
    "df['liver_enzyme_score'] = df['gamma_GTP'] + df['SGOT_AST'] + df['SGOT_ALT']\n",
    "df['AST_ALT_ratio'] = df['SGOT_AST'] / (df['SGOT_ALT'] + 1e-5)\n",
    "df['GTP_AST_ratio'] = df['gamma_GTP'] / (df['SGOT_AST'] + 1e-5)\n",
    "\n",
    "# 3. BODY COMPOSITION\n",
    "df['BMI'] = df['weight'] / ((df['height'] / 100) ** 2)\n",
    "df['waist_height_ratio'] = df['waistline'] / df['height']\n",
    "\n",
    "# 4. CARDIOVASCULAR RISK SCORE (weighted combination)\n",
    "df['cardiovascular_risk'] = (\n",
    "    df['SBP'] * 0.25 + \n",
    "    df['DBP'] * 0.15 + \n",
    "    df['LDL_chole'] * 0.20 + \n",
    "    df['triglyceride'] * 0.15 +\n",
    "    (200 - df['HDL_chole']) * 0.25  # Inverso HDL (più basso = più rischio)\n",
    ")\n",
    "\n",
    "# 5. METABOLIC SYNDROME INDICATORS\n",
    "df['metabolic_score'] = (\n",
    "    (df['waistline'] > 90).astype(int) * 2 +  # Obesità addominale\n",
    "    (df['triglyceride'] > 150).astype(int) +   # Trigliceridi alti\n",
    "    (df['HDL_chole'] < 40).astype(int) +       # HDL basso\n",
    "    (df['SBP'] > 130).astype(int)              # Ipertensione\n",
    ")\n",
    "\n",
    "# 6. AGE-RELATED INTERACTIONS\n",
    "df['age_BP_interaction'] = df['age'] * df['SBP'] / 100\n",
    "df['age_cholesterol_interaction'] = df['age'] * df['cholesterol_total'] / 1000\n",
    "\n",
    "# 7. HEARING ISSUES (binario)\n",
    "df['hearing_problem'] = ((df['hear_left'] == 2) | (df['hear_right'] == 2)).astype(int)\n",
    "\n",
    "# Rimuovi eventuali NaN o Inf generati\n",
    "df.replace([np.inf, -np.inf], np.nan, inplace=True)\n",
    "df.fillna(df.median(), inplace=True)\n",
    "\n",
    "# Report finale\n",
    "new_features = df.shape[1]\n",
    "print(f\"New features: {new_features}\")\n",
    "print(f\"Features added: {new_features - original_features}\")\n",
    "print(\"\\nNew feature columns:\")\n",
    "new_cols = [col for col in df.columns if col not in ['sex', 'age', 'height', 'weight', \n",
    "            'waistline', 'sight_left', 'sight_right', 'hear_left', 'hear_right',\n",
    "            'SBP', 'DBP', 'BLDS', 'tot_chole', 'HDL_chole', 'LDL_chole', \n",
    "            'triglyceride', 'hemoglobin', 'urine_protein', 'serum_creatinine',\n",
    "            'SGOT_AST', 'SGOT_ALT', 'gamma_GTP', 'SMK_stat_type_cd', 'DRK_YN']]\n",
    "for col in new_cols:\n",
    "    print(f\"  - {col}\")"
   ]
  },
  {
   "cell_type": "markdown",
   "id": "2ff1817f",
   "metadata": {},
   "source": [
    "### Correlation heatmap"
   ]
  },
  {
   "cell_type": "code",
   "execution_count": null,
   "id": "e91bf453",
   "metadata": {},
   "outputs": [],
   "source": [
    "plt.figure(figsize=(18, 16))\n",
    "correlation_matrix = df.corr()\n",
    "sns.heatmap(correlation_matrix, annot=False, fmt='.2f', cmap='coolwarm', \n",
    "            center=0, square=True, linewidths=0.5, cbar_kws={\"shrink\": 0.8})\n",
    "plt.title('Feature Correlation Matrix (with Engineered Features)', fontsize=16, fontweight='bold')\n",
    "plt.tight_layout()\n",
    "plt.show()\n",
    "\n",
    "# Focus on target correlations\n",
    "smoking_corr = correlation_matrix['SMK_stat_type_cd'].sort_values(ascending=False)\n",
    "print(\"\\nTop 15 features correlated with SMOKING STATUS:\")\n",
    "print(smoking_corr.head(15))\n",
    "\n",
    "drinking_corr = correlation_matrix['DRK_YN'].sort_values(ascending=False)\n",
    "print(\"\\nTop 15 features correlated with DRINKING STATUS:\")\n",
    "print(drinking_corr.head(15))"
   ]
  },
  {
   "cell_type": "markdown",
   "id": "8192776c",
   "metadata": {},
   "source": [
    "### Smoking status split"
   ]
  },
  {
   "cell_type": "code",
   "execution_count": null,
   "id": "e0441c8f",
   "metadata": {},
   "outputs": [],
   "source": [
    "from sklearn.model_selection import train_test_split\n",
    "\n",
    "# Smoking status split (CON feature engineered!)\n",
    "X_smoke = df.drop('SMK_stat_type_cd', axis=1)\n",
    "y_smoke = df['SMK_stat_type_cd']\n",
    "\n",
    "X_train_smoke, X_test_smoke, y_train_smoke, y_test_smoke = train_test_split(\n",
    "    X_smoke, y_smoke, \n",
    "    test_size=0.30, \n",
    "    random_state=101, \n",
    "    stratify=y_smoke\n",
    ")\n",
    "\n",
    "print(f\"Smoking - Training set: {X_train_smoke.shape}\")\n",
    "print(f\"Smoking - Test set: {X_test_smoke.shape}\")\n",
    "print(f\"Total features (with engineered): {X_train_smoke.shape[1]}\")"
   ]
  },
  {
   "cell_type": "markdown",
   "id": "1bfa0775",
   "metadata": {},
   "source": [
    "### Drinking status split"
   ]
  },
  {
   "cell_type": "code",
   "execution_count": null,
   "id": "457026c5",
   "metadata": {},
   "outputs": [],
   "source": [
    "from sklearn.model_selection import train_test_split\n",
    "\n",
    "# Drinking status split\n",
    "X_drink = df.drop('DRK_YN', axis=1)\n",
    "y_drink = df['DRK_YN']\n",
    "\n",
    "X_train_drink, X_test_drink, y_train_drink, y_test_drink = train_test_split(\n",
    "    X_drink, y_drink, \n",
    "    test_size=0.30, \n",
    "    random_state=101,\n",
    "    stratify=y_drink\n",
    ")\n",
    "\n",
    "print(f\"Drinking - Training set: {X_train_drink.shape}\")\n",
    "print(f\"Drinking - Test set: {X_test_drink.shape}\")"
   ]
  },
  {
   "cell_type": "markdown",
   "id": "cc2e43fc",
   "metadata": {},
   "source": [
    "## 5. Modeling - Task 1: Smoking Status"
   ]
  },
  {
   "cell_type": "markdown",
   "id": "f5e778a0",
   "metadata": {},
   "source": [
    "### A. Logistic Regression"
   ]
  },
  {
   "cell_type": "code",
   "execution_count": null,
   "id": "e83c36f0",
   "metadata": {},
   "outputs": [],
   "source": [
    "from sklearn.linear_model import LogisticRegression\n",
    "from sklearn.model_selection import GridSearchCV\n",
    "from sklearn.pipeline import Pipeline\n",
    "from sklearn.preprocessing import StandardScaler\n",
    "\n",
    "# Analisi veloce class distribution\n",
    "print(\"Class distribution:\", y_train_smoke.value_counts(normalize=True).round(3).to_dict())\n",
    "print(f\"Features: {X_train_smoke.shape[1]}, Samples: {X_train_smoke.shape[0]}\\n\")\n",
    "\n",
    "# Subsample ridotto (10% invece di 40%)\n",
    "X_sample = X_train_smoke.sample(frac=0.1, random_state=101)\n",
    "y_sample = y_train_smoke.loc[X_sample.index]\n",
    "\n",
    "# Pipeline semplice\n",
    "pipeline = Pipeline([\n",
    "    ('scaler', StandardScaler()),\n",
    "    ('logreg', LogisticRegression(random_state=0, max_iter=2000))\n",
    "])\n",
    "\n",
    "# Grid MINIMA - solo 4 combinazioni\n",
    "param_grid = {\n",
    "    'logreg__C': [1, 10],\n",
    "    'logreg__solver': ['lbfgs'],\n",
    "    'logreg__class_weight': [None, 'balanced']\n",
    "}\n",
    "\n",
    "# GridSearch veloce\n",
    "grid = GridSearchCV(pipeline, param_grid, cv=2, n_jobs=-1, verbose=1)\n",
    "grid.fit(X_sample, y_sample)\n",
    "\n",
    "print(f\"\\nBest params: {grid.best_params_}\")\n",
    "print(f\"Best CV score: {grid.best_score_:.4f}\")\n",
    "\n",
    "# %%\n",
    "# Training finale rapido\n",
    "pipeline.set_params(**grid.best_params_)\n",
    "pipeline.fit(X_train_smoke, y_train_smoke)\n",
    "\n",
    "# Risultati\n",
    "train_acc = pipeline.score(X_train_smoke, y_train_smoke)\n",
    "test_acc = pipeline.score(X_test_smoke, y_test_smoke)\n",
    "\n",
    "print(\"\\n\" + \"=\" * 50)\n",
    "print(\"SMOKING STATUS - FINAL RESULTS\")\n",
    "print(\"=\" * 50)\n",
    "print(f\"Training Accuracy: {train_acc:.4f}\")\n",
    "print(f\"Test Accuracy:     {test_acc:.4f}\")\n",
    "print(\"=\" * 50)\n",
    "\n",
    "logmodel_smoke_final = pipeline"
   ]
  },
  {
   "cell_type": "markdown",
   "id": "83e32b34",
   "metadata": {},
   "source": [
    "### B. Random Forest"
   ]
  },
  {
   "cell_type": "code",
   "execution_count": null,
   "id": "e415f7d0",
   "metadata": {},
   "outputs": [],
   "source": [
    "from sklearn.ensemble import RandomForestClassifier\n",
    "from sklearn.model_selection import GridSearchCV\n",
    "from sklearn.pipeline import Pipeline\n",
    "\n",
    "# Piccolo campione per ottimizzazione parametri\n",
    "X_sample_rf = X_train_smoke.sample(frac=0.1, random_state=101)\n",
    "y_sample_rf = y_train_smoke.loc[X_sample_rf.index]\n",
    "\n",
    "# Pipeline (nessuna scaling necessaria, ma si può lasciare consistenza)\n",
    "pipeline_rf = Pipeline([\n",
    "    ('rf', RandomForestClassifier(random_state=0, n_jobs=-1))\n",
    "])\n",
    "\n",
    "# Grid minimal - trova un buon compromesso tra accuratezza e RAM\n",
    "param_grid_rf = {\n",
    "    'rf__n_estimators': [100, 200],\n",
    "    'rf__max_depth': [8, 16],\n",
    "    'rf__class_weight': [None, 'balanced']\n",
    "}\n",
    "\n",
    "grid_rf = GridSearchCV(pipeline_rf, param_grid_rf, cv=2, n_jobs=-1, verbose=1)\n",
    "grid_rf.fit(X_sample_rf, y_sample_rf)\n",
    "\n",
    "print(f\"\\nBest params: {grid_rf.best_params_}\")\n",
    "print(f\"Best CV score: {grid_rf.best_score_:.4f}\")\n",
    "\n",
    "# Allena modello finale con i best params sui dati completi\n",
    "pipeline_rf.set_params(**grid_rf.best_params_)\n",
    "pipeline_rf.fit(X_train_smoke, y_train_smoke)\n",
    "\n",
    "train_acc_rf = pipeline_rf.score(X_train_smoke, y_train_smoke)\n",
    "test_acc_rf = pipeline_rf.score(X_test_smoke, y_test_smoke)\n",
    "\n",
    "print(\"\\n\" + \"=\"*50)\n",
    "print(\"SMOKING STATUS - RANDOM FOREST\")\n",
    "print(\"=\"*50)\n",
    "print(f\"Training Accuracy: {train_acc_rf:.4f}\")\n",
    "print(f\"Test Accuracy:     {test_acc_rf:.4f}\")\n",
    "print(\"=\"*50)\n",
    "\n",
    "rf_smoke_final = pipeline_rf\n"
   ]
  },
  {
   "cell_type": "code",
   "execution_count": null,
   "id": "d9d1db25",
   "metadata": {},
   "outputs": [],
   "source": [
    "importances = rf_smoke_final.named_steps['rf'].feature_importances_\n",
    "features = X_train_smoke.columns\n",
    "for imp, feat in sorted(zip(importances, features), reverse=True):\n",
    "    print(f\"{feat}: {imp:.4f}\")"
   ]
  },
  {
   "cell_type": "markdown",
   "id": "28e8bb48",
   "metadata": {},
   "source": [
    "## 6. Modeling - Task 2: Drinking Status"
   ]
  },
  {
   "cell_type": "markdown",
   "id": "a484a9e8",
   "metadata": {},
   "source": [
    "### A. Logistic Regression"
   ]
  },
  {
   "cell_type": "code",
   "execution_count": null,
   "id": "f57f1959",
   "metadata": {},
   "outputs": [],
   "source": [
    "# Analisi veloce class distribution\n",
    "print(\"Class distribution:\", y_train_drink.value_counts(normalize=True).round(3).to_dict())\n",
    "print(f\"Features: {X_train_drink.shape[1]}, Samples: {X_train_drink.shape[0]}\\n\")\n",
    "\n",
    "# Subsample ridotto (10% invece di 40%)\n",
    "X_sample_drink = X_train_drink.sample(frac=0.1, random_state=101)\n",
    "y_sample_drink = y_train_drink.loc[X_sample_drink.index]\n",
    "\n",
    "# Pipeline semplice\n",
    "pipeline_drink = Pipeline([\n",
    "    ('scaler', StandardScaler()),\n",
    "    ('logreg', LogisticRegression(random_state=0, max_iter=2000))\n",
    "])\n",
    "\n",
    "# Grid MINIMA - solo 4 combinazioni\n",
    "param_grid_drink = {\n",
    "    'logreg__C': [1, 10],\n",
    "    'logreg__solver': ['lbfgs'],\n",
    "    'logreg__class_weight': [None, 'balanced']\n",
    "}\n",
    "\n",
    "# GridSearch veloce\n",
    "grid_drink = GridSearchCV(pipeline_drink, param_grid_drink, cv=2, n_jobs=-1, verbose=1)\n",
    "grid_drink.fit(X_sample_drink, y_sample_drink)\n",
    "\n",
    "print(f\"\\nBest params: {grid_drink.best_params_}\")\n",
    "print(f\"Best CV score: {grid_drink.best_score_:.4f}\")\n",
    "\n",
    "# %%\n",
    "# Training finale rapido\n",
    "pipeline_drink.set_params(**grid_drink.best_params_)\n",
    "pipeline_drink.fit(X_train_drink, y_train_drink)\n",
    "\n",
    "# Risultati\n",
    "train_acc_drink = pipeline_drink.score(X_train_drink, y_train_drink)\n",
    "test_acc_drink = pipeline_drink.score(X_test_drink, y_test_drink)\n",
    "\n",
    "print(\"\\n\" + \"=\" * 50)\n",
    "print(\"DRINKING STATUS - FINAL RESULTS\")\n",
    "print(\"=\" * 50)\n",
    "print(f\"Training Accuracy: {train_acc_drink:.4f}\")\n",
    "print(f\"Test Accuracy:     {test_acc_drink:.4f}\")\n",
    "print(\"=\" * 50)\n",
    "\n",
    "logmodel_drink_final = pipeline_drink"
   ]
  },
  {
   "cell_type": "markdown",
   "id": "ea441ad0",
   "metadata": {},
   "source": [
    "### B. Random Forest"
   ]
  },
  {
   "cell_type": "code",
   "execution_count": null,
   "id": "89121e55",
   "metadata": {},
   "outputs": [],
   "source": [
    "from sklearn.ensemble import RandomForestClassifier\n",
    "from sklearn.model_selection import GridSearchCV\n",
    "from sklearn.pipeline import Pipeline\n",
    "\n",
    "# Piccolo campione per ottimizzazione parametri\n",
    "X_sample_rf = X_train_drink.sample(frac=0.1, random_state=101)\n",
    "y_sample_rf = y_train_drink.loc[X_sample_rf.index]\n",
    "\n",
    "# Pipeline (nessuna scaling necessaria, ma si può lasciare consistenza)\n",
    "pipeline_rf = Pipeline([\n",
    "    ('rf', RandomForestClassifier(random_state=0, n_jobs=-1))\n",
    "])\n",
    "\n",
    "# Grid minimal - trova un buon compromesso tra accuratezza e RAM\n",
    "param_grid_rf = {\n",
    "    'rf__n_estimators': [100, 200],\n",
    "    'rf__max_depth': [8, 16],\n",
    "    'rf__class_weight': [None, 'balanced']\n",
    "}\n",
    "\n",
    "grid_rf = GridSearchCV(pipeline_rf, param_grid_rf, cv=2, n_jobs=-1, verbose=1)\n",
    "grid_rf.fit(X_sample_rf, y_sample_rf)\n",
    "\n",
    "print(f\"\\nBest params: {grid_rf.best_params_}\")\n",
    "print(f\"Best CV score: {grid_rf.best_score_:.4f}\")\n",
    "\n",
    "# Allena modello finale con i best params sui dati completi\n",
    "pipeline_rf.set_params(**grid_rf.best_params_)\n",
    "pipeline_rf.fit(X_train_drink, y_train_drink)\n",
    "\n",
    "train_acc_rf = pipeline_rf.score(X_train_drink, y_train_drink)\n",
    "test_acc_rf = pipeline_rf.score(X_test_drink, y_test_drink)\n",
    "\n",
    "print(\"\\n\" + \"=\"*50)\n",
    "print(\"DRINKING STATUS - RANDOM FOREST\")\n",
    "print(\"=\"*50)\n",
    "print(f\"Training Accuracy: {train_acc_rf:.4f}\")\n",
    "print(f\"Test Accuracy:     {test_acc_rf:.4f}\")\n",
    "print(\"=\"*50)\n",
    "\n",
    "rf_drink_final = pipeline_rf"
   ]
  },
  {
   "cell_type": "code",
   "execution_count": null,
   "id": "9833417f",
   "metadata": {},
   "outputs": [],
   "source": [
    "importances = rf_drink_final.named_steps['rf'].feature_importances_\n",
    "features = X_train_drink.columns\n",
    "for imp, feat in sorted(zip(importances, features), reverse=True):\n",
    "    print(f\"{feat}: {imp:.4f}\")"
   ]
  },
  {
   "cell_type": "markdown",
   "id": "ddc520ea",
   "metadata": {},
   "source": [
    "## 7. Model Evaluation"
   ]
  },
  {
   "cell_type": "code",
   "execution_count": null,
   "id": "f9cd43aa",
   "metadata": {},
   "outputs": [],
   "source": []
  },
  {
   "cell_type": "markdown",
   "id": "f0f78b8e",
   "metadata": {},
   "source": [
    "## 8. Insights"
   ]
  },
  {
   "cell_type": "code",
   "execution_count": null,
   "id": "1be55766",
   "metadata": {},
   "outputs": [],
   "source": []
  },
  {
   "cell_type": "markdown",
   "id": "eab8058d",
   "metadata": {},
   "source": [
    "## 9. Conclusion"
   ]
  }
 ],
 "metadata": {
  "kernelspec": {
   "display_name": "ads",
   "language": "python",
   "name": "python3"
  },
  "language_info": {
   "codemirror_mode": {
    "name": "ipython",
    "version": 3
   },
   "file_extension": ".py",
   "mimetype": "text/x-python",
   "name": "python",
   "nbconvert_exporter": "python",
   "pygments_lexer": "ipython3",
   "version": "3.10.19"
  }
 },
 "nbformat": 4,
 "nbformat_minor": 5
}
